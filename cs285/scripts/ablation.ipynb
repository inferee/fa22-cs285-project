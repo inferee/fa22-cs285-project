{
 "cells": [
  {
   "cell_type": "code",
   "execution_count": 4,
   "metadata": {},
   "outputs": [],
   "source": [
    "import shlex, subprocess, time, itertools, os, shutil"
   ]
  },
  {
   "cell_type": "code",
   "execution_count": 5,
   "metadata": {},
   "outputs": [],
   "source": [
    "def create_all_permutations(cmd_template, *args):\n",
    "    for params in itertools.product(*args):\n",
    "        yield cmd_template.format(*params)\n",
    "\n",
    "def run_parallel(commands):\n",
    "    if os.path.exists(\"out\"):\n",
    "        shutil.rmtree('out')\n",
    "    os.makedirs(\"out\")\n",
    "\n",
    "    processes = []\n",
    "    statuses = []\n",
    "    output_files = []\n",
    "\n",
    "    for i, cmd in enumerate(commands):\n",
    "        print(f\"Running command {i}: \\\"{cmd}\\\"\")\n",
    "        cmd_args = shlex.split(cmd)\n",
    "        \n",
    "        f = open(f\"out/{i}.txt\", \"w\")\n",
    "        proc = subprocess.Popen(cmd_args, stdout=f)\n",
    "        processes.append(proc)\n",
    "        statuses.append(None)\n",
    "        output_files.append(f)\n",
    "\n",
    "    while None in statuses:\n",
    "        time.sleep(5)\n",
    "        for i in range(len(processes)):\n",
    "            if statuses[i] == None:\n",
    "                statuses[i] = processes[i].poll()\n",
    "                if statuses[i] == 0:\n",
    "                    print(f\"Command {i} finished successfully!\")\n",
    "                elif statuses[i] != None:\n",
    "                    print(f\"Command {i} failed with status {statuses[i]}!!!!!\")\n",
    "    print(\"All processes done. Status codes:\")\n",
    "    print(statuses)\n",
    "\n",
    "    for f in output_files:\n",
    "        f.close()\n",
    "    return statuses\n",
    "\n",
    "def run_sequential(commands):\n",
    "    statuses = []\n",
    "    with open(\"output.txt\", \"w\") as f:\n",
    "        for cmd in commands:\n",
    "            print(f\"Running command: \\\"{cmd}\\\"\")\n",
    "            cmd_args = shlex.split(cmd)\n",
    "\n",
    "            proc = subprocess.run(cmd_args, stdout=f)\n",
    "            if proc.returncode == 0:\n",
    "                print(\"Command finished successfully!\")\n",
    "            else:\n",
    "                print(f\"Command failed with status {proc.returncode}!!!!!\")\n",
    "                return\n",
    "            statuses.append(proc.returncode)\n",
    "    return statuses"
   ]
  },
  {
   "cell_type": "code",
   "execution_count": 7,
   "metadata": {},
   "outputs": [
    {
     "name": "stdout",
     "output_type": "stream",
     "text": [
      "Running command 0: \"\n",
      "python run_sac.py\n",
      "    --env_name HalfCheetah-v4 --env_tasks forward backward jump --multitask_setting cds --ep_len 150\n",
      "    --discount 0.99 --scalar_log_freq 1500\n",
      "    -n 100000 -l 2 -s 256 -b 1500 -eb 1500\n",
      "    -lr 0.0003 --init_temperature 0.1 --exp_name halfcheetah_fbj_cds0.05\n",
      "    --seed 1 --cds_percentile 0.05\n",
      "\"\n",
      "Running command 1: \"\n",
      "python run_sac.py\n",
      "    --env_name HalfCheetah-v4 --env_tasks forward backward jump --multitask_setting cds --ep_len 150\n",
      "    --discount 0.99 --scalar_log_freq 1500\n",
      "    -n 100000 -l 2 -s 256 -b 1500 -eb 1500\n",
      "    -lr 0.0003 --init_temperature 0.1 --exp_name halfcheetah_fbj_cds0.1\n",
      "    --seed 1 --cds_percentile 0.1\n",
      "\"\n",
      "Running command 2: \"\n",
      "python run_sac.py\n",
      "    --env_name HalfCheetah-v4 --env_tasks forward backward jump --multitask_setting cds --ep_len 150\n",
      "    --discount 0.99 --scalar_log_freq 1500\n",
      "    -n 100000 -l 2 -s 256 -b 1500 -eb 1500\n",
      "    -lr 0.0003 --init_temperature 0.1 --exp_name halfcheetah_fbj_cds0.15\n",
      "    --seed 1 --cds_percentile 0.15\n",
      "\"\n",
      "Running command 3: \"\n",
      "python run_sac.py\n",
      "    --env_name HalfCheetah-v4 --env_tasks forward backward jump --multitask_setting cds --ep_len 150\n",
      "    --discount 0.99 --scalar_log_freq 1500\n",
      "    -n 100000 -l 2 -s 256 -b 1500 -eb 1500\n",
      "    -lr 0.0003 --init_temperature 0.1 --exp_name halfcheetah_fbj_cds0.25\n",
      "    --seed 1 --cds_percentile 0.25\n",
      "\"\n",
      "Running command 4: \"\n",
      "python run_sac.py\n",
      "    --env_name Walker2d-v4 --env_tasks forward backward jump --multitask_setting cds --ep_len 1000\n",
      "    --discount 0.99 --scalar_log_freq 2000\n",
      "    -n 100000 -l 2 -s 256 -b 2000 -eb 2000\n",
      "    -lr 0.0003 --init_temperature 0.1 --exp_name walker_fbj_cds0.05\n",
      "    --seed 1 --cds_percentile 0.05\n",
      "\"\n",
      "Running command 5: \"\n",
      "python run_sac.py\n",
      "    --env_name Walker2d-v4 --env_tasks forward backward jump --multitask_setting cds --ep_len 1000\n",
      "    --discount 0.99 --scalar_log_freq 2000\n",
      "    -n 100000 -l 2 -s 256 -b 2000 -eb 2000\n",
      "    -lr 0.0003 --init_temperature 0.1 --exp_name walker_fbj_cds0.1\n",
      "    --seed 1 --cds_percentile 0.1\n",
      "\"\n",
      "Running command 6: \"\n",
      "python run_sac.py\n",
      "    --env_name Walker2d-v4 --env_tasks forward backward jump --multitask_setting cds --ep_len 1000\n",
      "    --discount 0.99 --scalar_log_freq 2000\n",
      "    -n 100000 -l 2 -s 256 -b 2000 -eb 2000\n",
      "    -lr 0.0003 --init_temperature 0.1 --exp_name walker_fbj_cds0.15\n",
      "    --seed 1 --cds_percentile 0.15\n",
      "\"\n",
      "Running command 7: \"\n",
      "python run_sac.py\n",
      "    --env_name Walker2d-v4 --env_tasks forward backward jump --multitask_setting cds --ep_len 1000\n",
      "    --discount 0.99 --scalar_log_freq 2000\n",
      "    -n 100000 -l 2 -s 256 -b 2000 -eb 2000\n",
      "    -lr 0.0003 --init_temperature 0.1 --exp_name walker_fbj_cds0.25\n",
      "    --seed 1 --cds_percentile 0.25\n",
      "\"\n"
     ]
    },
    {
     "name": "stderr",
     "output_type": "stream",
     "text": [
      "/home/kev/miniconda3/envs/cs285-proj/lib/python3.7/site-packages/gym/core.py:318: DeprecationWarning: \u001b[33mWARN: Initializing wrapper in old step API which returns one bool instead of two. It is recommended to set `new_step_api=True` to use new step API. This will be the default behaviour in future.\u001b[0m\n",
      "  \"Initializing wrapper in old step API which returns one bool instead of two. It is recommended to set `new_step_api=True` to use new step API. This will be the default behaviour in future.\"\n",
      "/home/kev/miniconda3/envs/cs285-proj/lib/python3.7/site-packages/gym/wrappers/step_api_compatibility.py:40: DeprecationWarning: \u001b[33mWARN: Initializing environment in old step API which returns one bool instead of two. It is recommended to set `new_step_api=True` to use new step API. This will be the default behaviour in future.\u001b[0m\n",
      "  \"Initializing environment in old step API which returns one bool instead of two. It is recommended to set `new_step_api=True` to use new step API. This will be the default behaviour in future.\"\n",
      "/home/kev/miniconda3/envs/cs285-proj/lib/python3.7/site-packages/gym/core.py:257: DeprecationWarning: \u001b[33mWARN: Function `env.seed(seed)` is marked as deprecated and will be removed in the future. Please use `env.reset(seed=seed)` instead.\u001b[0m\n",
      "  \"Function `env.seed(seed)` is marked as deprecated and will be removed in the future. \"\n",
      "/home/kev/miniconda3/envs/cs285-proj/lib/python3.7/site-packages/gym/core.py:318: DeprecationWarning: \u001b[33mWARN: Initializing wrapper in old step API which returns one bool instead of two. It is recommended to set `new_step_api=True` to use new step API. This will be the default behaviour in future.\u001b[0m\n",
      "  \"Initializing wrapper in old step API which returns one bool instead of two. It is recommended to set `new_step_api=True` to use new step API. This will be the default behaviour in future.\"\n",
      "/home/kev/miniconda3/envs/cs285-proj/lib/python3.7/site-packages/gym/wrappers/step_api_compatibility.py:40: DeprecationWarning: \u001b[33mWARN: Initializing environment in old step API which returns one bool instead of two. It is recommended to set `new_step_api=True` to use new step API. This will be the default behaviour in future.\u001b[0m\n",
      "  \"Initializing environment in old step API which returns one bool instead of two. It is recommended to set `new_step_api=True` to use new step API. This will be the default behaviour in future.\"\n",
      "/home/kev/miniconda3/envs/cs285-proj/lib/python3.7/site-packages/gym/core.py:257: DeprecationWarning: \u001b[33mWARN: Function `env.seed(seed)` is marked as deprecated and will be removed in the future. Please use `env.reset(seed=seed)` instead.\u001b[0m\n",
      "  \"Function `env.seed(seed)` is marked as deprecated and will be removed in the future. \"\n",
      "/home/kev/miniconda3/envs/cs285-proj/lib/python3.7/site-packages/gym/core.py:318: DeprecationWarning: \u001b[33mWARN: Initializing wrapper in old step API which returns one bool instead of two. It is recommended to set `new_step_api=True` to use new step API. This will be the default behaviour in future.\u001b[0m\n",
      "  \"Initializing wrapper in old step API which returns one bool instead of two. It is recommended to set `new_step_api=True` to use new step API. This will be the default behaviour in future.\"\n",
      "/home/kev/miniconda3/envs/cs285-proj/lib/python3.7/site-packages/gym/wrappers/step_api_compatibility.py:40: DeprecationWarning: \u001b[33mWARN: Initializing environment in old step API which returns one bool instead of two. It is recommended to set `new_step_api=True` to use new step API. This will be the default behaviour in future.\u001b[0m\n",
      "  \"Initializing environment in old step API which returns one bool instead of two. It is recommended to set `new_step_api=True` to use new step API. This will be the default behaviour in future.\"\n",
      "/home/kev/miniconda3/envs/cs285-proj/lib/python3.7/site-packages/gym/core.py:257: DeprecationWarning: \u001b[33mWARN: Function `env.seed(seed)` is marked as deprecated and will be removed in the future. Please use `env.reset(seed=seed)` instead.\u001b[0m\n",
      "  \"Function `env.seed(seed)` is marked as deprecated and will be removed in the future. \"\n",
      "/home/kev/miniconda3/envs/cs285-proj/lib/python3.7/site-packages/gym/core.py:318: DeprecationWarning: \u001b[33mWARN: Initializing wrapper in old step API which returns one bool instead of two. It is recommended to set `new_step_api=True` to use new step API. This will be the default behaviour in future.\u001b[0m\n",
      "  \"Initializing wrapper in old step API which returns one bool instead of two. It is recommended to set `new_step_api=True` to use new step API. This will be the default behaviour in future.\"\n",
      "/home/kev/miniconda3/envs/cs285-proj/lib/python3.7/site-packages/gym/wrappers/step_api_compatibility.py:40: DeprecationWarning: \u001b[33mWARN: Initializing environment in old step API which returns one bool instead of two. It is recommended to set `new_step_api=True` to use new step API. This will be the default behaviour in future.\u001b[0m\n",
      "  \"Initializing environment in old step API which returns one bool instead of two. It is recommended to set `new_step_api=True` to use new step API. This will be the default behaviour in future.\"\n",
      "/home/kev/miniconda3/envs/cs285-proj/lib/python3.7/site-packages/gym/core.py:257: DeprecationWarning: \u001b[33mWARN: Function `env.seed(seed)` is marked as deprecated and will be removed in the future. Please use `env.reset(seed=seed)` instead.\u001b[0m\n",
      "  \"Function `env.seed(seed)` is marked as deprecated and will be removed in the future. \"\n",
      "/home/kev/miniconda3/envs/cs285-proj/lib/python3.7/site-packages/gym/core.py:318: DeprecationWarning: \u001b[33mWARN: Initializing wrapper in old step API which returns one bool instead of two. It is recommended to set `new_step_api=True` to use new step API. This will be the default behaviour in future.\u001b[0m\n",
      "  \"Initializing wrapper in old step API which returns one bool instead of two. It is recommended to set `new_step_api=True` to use new step API. This will be the default behaviour in future.\"\n",
      "/home/kev/miniconda3/envs/cs285-proj/lib/python3.7/site-packages/gym/wrappers/step_api_compatibility.py:40: DeprecationWarning: \u001b[33mWARN: Initializing environment in old step API which returns one bool instead of two. It is recommended to set `new_step_api=True` to use new step API. This will be the default behaviour in future.\u001b[0m\n",
      "  \"Initializing environment in old step API which returns one bool instead of two. It is recommended to set `new_step_api=True` to use new step API. This will be the default behaviour in future.\"\n",
      "/home/kev/miniconda3/envs/cs285-proj/lib/python3.7/site-packages/gym/core.py:257: DeprecationWarning: \u001b[33mWARN: Function `env.seed(seed)` is marked as deprecated and will be removed in the future. Please use `env.reset(seed=seed)` instead.\u001b[0m\n",
      "  \"Function `env.seed(seed)` is marked as deprecated and will be removed in the future. \"\n",
      "/home/kev/miniconda3/envs/cs285-proj/lib/python3.7/site-packages/gym/core.py:318: DeprecationWarning: \u001b[33mWARN: Initializing wrapper in old step API which returns one bool instead of two. It is recommended to set `new_step_api=True` to use new step API. This will be the default behaviour in future.\u001b[0m\n",
      "  \"Initializing wrapper in old step API which returns one bool instead of two. It is recommended to set `new_step_api=True` to use new step API. This will be the default behaviour in future.\"\n",
      "/home/kev/miniconda3/envs/cs285-proj/lib/python3.7/site-packages/gym/wrappers/step_api_compatibility.py:40: DeprecationWarning: \u001b[33mWARN: Initializing environment in old step API which returns one bool instead of two. It is recommended to set `new_step_api=True` to use new step API. This will be the default behaviour in future.\u001b[0m\n",
      "  \"Initializing environment in old step API which returns one bool instead of two. It is recommended to set `new_step_api=True` to use new step API. This will be the default behaviour in future.\"\n",
      "/home/kev/miniconda3/envs/cs285-proj/lib/python3.7/site-packages/gym/core.py:257: DeprecationWarning: \u001b[33mWARN: Function `env.seed(seed)` is marked as deprecated and will be removed in the future. Please use `env.reset(seed=seed)` instead.\u001b[0m\n",
      "  \"Function `env.seed(seed)` is marked as deprecated and will be removed in the future. \"\n",
      "/home/kev/miniconda3/envs/cs285-proj/lib/python3.7/site-packages/gym/core.py:318: DeprecationWarning: \u001b[33mWARN: Initializing wrapper in old step API which returns one bool instead of two. It is recommended to set `new_step_api=True` to use new step API. This will be the default behaviour in future.\u001b[0m\n",
      "  \"Initializing wrapper in old step API which returns one bool instead of two. It is recommended to set `new_step_api=True` to use new step API. This will be the default behaviour in future.\"\n",
      "/home/kev/miniconda3/envs/cs285-proj/lib/python3.7/site-packages/gym/wrappers/step_api_compatibility.py:40: DeprecationWarning: \u001b[33mWARN: Initializing environment in old step API which returns one bool instead of two. It is recommended to set `new_step_api=True` to use new step API. This will be the default behaviour in future.\u001b[0m\n",
      "  \"Initializing environment in old step API which returns one bool instead of two. It is recommended to set `new_step_api=True` to use new step API. This will be the default behaviour in future.\"\n",
      "/home/kev/miniconda3/envs/cs285-proj/lib/python3.7/site-packages/gym/core.py:257: DeprecationWarning: \u001b[33mWARN: Function `env.seed(seed)` is marked as deprecated and will be removed in the future. Please use `env.reset(seed=seed)` instead.\u001b[0m\n",
      "  \"Function `env.seed(seed)` is marked as deprecated and will be removed in the future. \"\n",
      "/home/kev/miniconda3/envs/cs285-proj/lib/python3.7/site-packages/gym/core.py:318: DeprecationWarning: \u001b[33mWARN: Initializing wrapper in old step API which returns one bool instead of two. It is recommended to set `new_step_api=True` to use new step API. This will be the default behaviour in future.\u001b[0m\n",
      "  \"Initializing wrapper in old step API which returns one bool instead of two. It is recommended to set `new_step_api=True` to use new step API. This will be the default behaviour in future.\"\n",
      "/home/kev/miniconda3/envs/cs285-proj/lib/python3.7/site-packages/gym/wrappers/step_api_compatibility.py:40: DeprecationWarning: \u001b[33mWARN: Initializing environment in old step API which returns one bool instead of two. It is recommended to set `new_step_api=True` to use new step API. This will be the default behaviour in future.\u001b[0m\n",
      "  \"Initializing environment in old step API which returns one bool instead of two. It is recommended to set `new_step_api=True` to use new step API. This will be the default behaviour in future.\"\n",
      "/home/kev/miniconda3/envs/cs285-proj/lib/python3.7/site-packages/gym/core.py:257: DeprecationWarning: \u001b[33mWARN: Function `env.seed(seed)` is marked as deprecated and will be removed in the future. Please use `env.reset(seed=seed)` instead.\u001b[0m\n",
      "  \"Function `env.seed(seed)` is marked as deprecated and will be removed in the future. \"\n",
      "/home/kev/miniconda3/envs/cs285-proj/lib/python3.7/site-packages/gym/core.py:318: DeprecationWarning: \u001b[33mWARN: Initializing wrapper in old step API which returns one bool instead of two. It is recommended to set `new_step_api=True` to use new step API. This will be the default behaviour in future.\u001b[0m\n",
      "  \"Initializing wrapper in old step API which returns one bool instead of two. It is recommended to set `new_step_api=True` to use new step API. This will be the default behaviour in future.\"\n",
      "/home/kev/miniconda3/envs/cs285-proj/lib/python3.7/site-packages/gym/wrappers/step_api_compatibility.py:40: DeprecationWarning: \u001b[33mWARN: Initializing environment in old step API which returns one bool instead of two. It is recommended to set `new_step_api=True` to use new step API. This will be the default behaviour in future.\u001b[0m\n",
      "  \"Initializing environment in old step API which returns one bool instead of two. It is recommended to set `new_step_api=True` to use new step API. This will be the default behaviour in future.\"\n",
      "/home/kev/miniconda3/envs/cs285-proj/lib/python3.7/site-packages/gym/core.py:257: DeprecationWarning: \u001b[33mWARN: Function `env.seed(seed)` is marked as deprecated and will be removed in the future. Please use `env.reset(seed=seed)` instead.\u001b[0m\n",
      "  \"Function `env.seed(seed)` is marked as deprecated and will be removed in the future. \"\n",
      "  0%|          | 0/100000 [00:00<?, ?it/s]/home/kev/miniconda3/envs/cs285-proj/lib/python3.7/site-packages/gym/core.py:318: DeprecationWarning: \u001b[33mWARN: Initializing wrapper in old step API which returns one bool instead of two. It is recommended to set `new_step_api=True` to use new step API. This will be the default behaviour in future.\u001b[0m\n",
      "  \"Initializing wrapper in old step API which returns one bool instead of two. It is recommended to set `new_step_api=True` to use new step API. This will be the default behaviour in future.\"\n",
      "/home/kev/miniconda3/envs/cs285-proj/lib/python3.7/site-packages/gym/wrappers/step_api_compatibility.py:40: DeprecationWarning: \u001b[33mWARN: Initializing environment in old step API which returns one bool instead of two. It is recommended to set `new_step_api=True` to use new step API. This will be the default behaviour in future.\u001b[0m\n",
      "  \"Initializing environment in old step API which returns one bool instead of two. It is recommended to set `new_step_api=True` to use new step API. This will be the default behaviour in future.\"\n",
      "/home/kev/miniconda3/envs/cs285-proj/lib/python3.7/site-packages/gym/core.py:257: DeprecationWarning: \u001b[33mWARN: Function `env.seed(seed)` is marked as deprecated and will be removed in the future. Please use `env.reset(seed=seed)` instead.\u001b[0m\n",
      "  \"Function `env.seed(seed)` is marked as deprecated and will be removed in the future. \"\n",
      "  0%|          | 0/100000 [00:00<?, ?it/s]/home/kev/miniconda3/envs/cs285-proj/lib/python3.7/site-packages/gym/core.py:318: DeprecationWarning: \u001b[33mWARN: Initializing wrapper in old step API which returns one bool instead of two. It is recommended to set `new_step_api=True` to use new step API. This will be the default behaviour in future.\u001b[0m\n",
      "  \"Initializing wrapper in old step API which returns one bool instead of two. It is recommended to set `new_step_api=True` to use new step API. This will be the default behaviour in future.\"\n",
      "/home/kev/miniconda3/envs/cs285-proj/lib/python3.7/site-packages/gym/wrappers/step_api_compatibility.py:40: DeprecationWarning: \u001b[33mWARN: Initializing environment in old step API which returns one bool instead of two. It is recommended to set `new_step_api=True` to use new step API. This will be the default behaviour in future.\u001b[0m\n",
      "  \"Initializing environment in old step API which returns one bool instead of two. It is recommended to set `new_step_api=True` to use new step API. This will be the default behaviour in future.\"\n",
      "/home/kev/miniconda3/envs/cs285-proj/lib/python3.7/site-packages/gym/core.py:257: DeprecationWarning: \u001b[33mWARN: Function `env.seed(seed)` is marked as deprecated and will be removed in the future. Please use `env.reset(seed=seed)` instead.\u001b[0m\n",
      "  \"Function `env.seed(seed)` is marked as deprecated and will be removed in the future. \"\n",
      "  0%|          | 0/100000 [00:00<?, ?it/s]/home/kev/miniconda3/envs/cs285-proj/lib/python3.7/site-packages/gym/core.py:318: DeprecationWarning: \u001b[33mWARN: Initializing wrapper in old step API which returns one bool instead of two. It is recommended to set `new_step_api=True` to use new step API. This will be the default behaviour in future.\u001b[0m\n",
      "  \"Initializing wrapper in old step API which returns one bool instead of two. It is recommended to set `new_step_api=True` to use new step API. This will be the default behaviour in future.\"\n",
      "/home/kev/miniconda3/envs/cs285-proj/lib/python3.7/site-packages/gym/wrappers/step_api_compatibility.py:40: DeprecationWarning: \u001b[33mWARN: Initializing environment in old step API which returns one bool instead of two. It is recommended to set `new_step_api=True` to use new step API. This will be the default behaviour in future.\u001b[0m\n",
      "  \"Initializing environment in old step API which returns one bool instead of two. It is recommended to set `new_step_api=True` to use new step API. This will be the default behaviour in future.\"\n",
      "/home/kev/miniconda3/envs/cs285-proj/lib/python3.7/site-packages/gym/core.py:257: DeprecationWarning: \u001b[33mWARN: Function `env.seed(seed)` is marked as deprecated and will be removed in the future. Please use `env.reset(seed=seed)` instead.\u001b[0m\n",
      "  \"Function `env.seed(seed)` is marked as deprecated and will be removed in the future. \"\n",
      "  0%|          | 0/100000 [00:00<?, ?it/s]/home/kev/miniconda3/envs/cs285-proj/lib/python3.7/site-packages/gym/core.py:318: DeprecationWarning: \u001b[33mWARN: Initializing wrapper in old step API which returns one bool instead of two. It is recommended to set `new_step_api=True` to use new step API. This will be the default behaviour in future.\u001b[0m\n",
      "  \"Initializing wrapper in old step API which returns one bool instead of two. It is recommended to set `new_step_api=True` to use new step API. This will be the default behaviour in future.\"\n",
      "/home/kev/miniconda3/envs/cs285-proj/lib/python3.7/site-packages/gym/wrappers/step_api_compatibility.py:40: DeprecationWarning: \u001b[33mWARN: Initializing environment in old step API which returns one bool instead of two. It is recommended to set `new_step_api=True` to use new step API. This will be the default behaviour in future.\u001b[0m\n",
      "  \"Initializing environment in old step API which returns one bool instead of two. It is recommended to set `new_step_api=True` to use new step API. This will be the default behaviour in future.\"\n",
      "/home/kev/miniconda3/envs/cs285-proj/lib/python3.7/site-packages/gym/core.py:257: DeprecationWarning: \u001b[33mWARN: Function `env.seed(seed)` is marked as deprecated and will be removed in the future. Please use `env.reset(seed=seed)` instead.\u001b[0m\n",
      "  \"Function `env.seed(seed)` is marked as deprecated and will be removed in the future. \"\n",
      "  0%|          | 0/100000 [00:00<?, ?it/s]/home/kev/miniconda3/envs/cs285-proj/lib/python3.7/site-packages/gym/core.py:318: DeprecationWarning: \u001b[33mWARN: Initializing wrapper in old step API which returns one bool instead of two. It is recommended to set `new_step_api=True` to use new step API. This will be the default behaviour in future.\u001b[0m\n",
      "  \"Initializing wrapper in old step API which returns one bool instead of two. It is recommended to set `new_step_api=True` to use new step API. This will be the default behaviour in future.\"\n",
      "/home/kev/miniconda3/envs/cs285-proj/lib/python3.7/site-packages/gym/wrappers/step_api_compatibility.py:40: DeprecationWarning: \u001b[33mWARN: Initializing environment in old step API which returns one bool instead of two. It is recommended to set `new_step_api=True` to use new step API. This will be the default behaviour in future.\u001b[0m\n",
      "  \"Initializing environment in old step API which returns one bool instead of two. It is recommended to set `new_step_api=True` to use new step API. This will be the default behaviour in future.\"\n",
      "/home/kev/miniconda3/envs/cs285-proj/lib/python3.7/site-packages/gym/core.py:257: DeprecationWarning: \u001b[33mWARN: Function `env.seed(seed)` is marked as deprecated and will be removed in the future. Please use `env.reset(seed=seed)` instead.\u001b[0m\n",
      "  \"Function `env.seed(seed)` is marked as deprecated and will be removed in the future. \"\n",
      "  0%|          | 0/100000 [00:00<?, ?it/s]/home/kev/miniconda3/envs/cs285-proj/lib/python3.7/site-packages/gym/core.py:318: DeprecationWarning: \u001b[33mWARN: Initializing wrapper in old step API which returns one bool instead of two. It is recommended to set `new_step_api=True` to use new step API. This will be the default behaviour in future.\u001b[0m\n",
      "  \"Initializing wrapper in old step API which returns one bool instead of two. It is recommended to set `new_step_api=True` to use new step API. This will be the default behaviour in future.\"\n",
      "/home/kev/miniconda3/envs/cs285-proj/lib/python3.7/site-packages/gym/wrappers/step_api_compatibility.py:40: DeprecationWarning: \u001b[33mWARN: Initializing environment in old step API which returns one bool instead of two. It is recommended to set `new_step_api=True` to use new step API. This will be the default behaviour in future.\u001b[0m\n",
      "  \"Initializing environment in old step API which returns one bool instead of two. It is recommended to set `new_step_api=True` to use new step API. This will be the default behaviour in future.\"\n",
      "/home/kev/miniconda3/envs/cs285-proj/lib/python3.7/site-packages/gym/core.py:257: DeprecationWarning: \u001b[33mWARN: Function `env.seed(seed)` is marked as deprecated and will be removed in the future. Please use `env.reset(seed=seed)` instead.\u001b[0m\n",
      "  \"Function `env.seed(seed)` is marked as deprecated and will be removed in the future. \"\n",
      "  0%|          | 0/100000 [00:00<?, ?it/s]/home/kev/miniconda3/envs/cs285-proj/lib/python3.7/site-packages/gym/core.py:318: DeprecationWarning: \u001b[33mWARN: Initializing wrapper in old step API which returns one bool instead of two. It is recommended to set `new_step_api=True` to use new step API. This will be the default behaviour in future.\u001b[0m\n",
      "  \"Initializing wrapper in old step API which returns one bool instead of two. It is recommended to set `new_step_api=True` to use new step API. This will be the default behaviour in future.\"\n",
      "/home/kev/miniconda3/envs/cs285-proj/lib/python3.7/site-packages/gym/wrappers/step_api_compatibility.py:40: DeprecationWarning: \u001b[33mWARN: Initializing environment in old step API which returns one bool instead of two. It is recommended to set `new_step_api=True` to use new step API. This will be the default behaviour in future.\u001b[0m\n",
      "  \"Initializing environment in old step API which returns one bool instead of two. It is recommended to set `new_step_api=True` to use new step API. This will be the default behaviour in future.\"\n",
      "/home/kev/miniconda3/envs/cs285-proj/lib/python3.7/site-packages/gym/core.py:257: DeprecationWarning: \u001b[33mWARN: Function `env.seed(seed)` is marked as deprecated and will be removed in the future. Please use `env.reset(seed=seed)` instead.\u001b[0m\n",
      "  \"Function `env.seed(seed)` is marked as deprecated and will be removed in the future. \"\n",
      "100%|██████████| 100000/100000 [3:50:45<00:00,  7.22it/s]   \n",
      " 97%|█████████▋| 96670/100000 [3:50:51<06:33,  8.46it/s]"
     ]
    },
    {
     "name": "stdout",
     "output_type": "stream",
     "text": [
      "Command 3 finished successfully!\n"
     ]
    },
    {
     "name": "stderr",
     "output_type": "stream",
     "text": [
      "100%|██████████| 100000/100000 [3:54:49<00:00,  7.10it/s]  \n",
      " 95%|█████████▍| 94904/100000 [3:54:57<10:06,  8.40it/s]"
     ]
    },
    {
     "name": "stdout",
     "output_type": "stream",
     "text": [
      "Command 2 finished successfully!\n"
     ]
    },
    {
     "name": "stderr",
     "output_type": "stream",
     "text": [
      "100%|██████████| 100000/100000 [3:57:41<00:00,  7.01it/s] \n",
      " 97%|█████████▋| 97143/100000 [3:57:47<04:40, 10.20it/s]"
     ]
    },
    {
     "name": "stdout",
     "output_type": "stream",
     "text": [
      "Command 1 finished successfully!\n"
     ]
    },
    {
     "name": "stderr",
     "output_type": "stream",
     "text": [
      "100%|██████████| 100000/100000 [4:01:07<00:00,  6.91it/s] \n",
      " 99%|█████████▉| 98950/100000 [4:01:12<01:39, 10.58it/s]"
     ]
    },
    {
     "name": "stdout",
     "output_type": "stream",
     "text": [
      "Command 7 finished successfully!\n"
     ]
    },
    {
     "name": "stderr",
     "output_type": "stream",
     "text": [
      "100%|██████████| 100000/100000 [4:01:11<00:00,  6.91it/s]\n",
      " 97%|█████████▋| 96715/100000 [4:01:16<04:34, 11.96it/s]"
     ]
    },
    {
     "name": "stdout",
     "output_type": "stream",
     "text": [
      "Command 0 finished successfully!\n"
     ]
    },
    {
     "name": "stderr",
     "output_type": "stream",
     "text": [
      "100%|██████████| 100000/100000 [4:02:40<00:00,  6.87it/s]\n",
      " 99%|█████████▉| 99120/100000 [4:02:42<01:03, 13.92it/s]"
     ]
    },
    {
     "name": "stdout",
     "output_type": "stream",
     "text": [
      "Command 6 finished successfully!\n"
     ]
    },
    {
     "name": "stderr",
     "output_type": "stream",
     "text": [
      "100%|██████████| 100000/100000 [4:03:47<00:00,  6.84it/s]\n",
      " 99%|█████████▊| 98573/100000 [4:03:51<01:37, 14.61it/s]"
     ]
    },
    {
     "name": "stdout",
     "output_type": "stream",
     "text": [
      "Command 5 finished successfully!\n"
     ]
    },
    {
     "name": "stderr",
     "output_type": "stream",
     "text": [
      "100%|██████████| 100000/100000 [4:05:28<00:00,  6.79it/s]\n"
     ]
    },
    {
     "name": "stdout",
     "output_type": "stream",
     "text": [
      "Command 4 finished successfully!\n",
      "All processes done. Status codes:\n",
      "[0, 0, 0, 0, 0, 0, 0, 0]\n"
     ]
    },
    {
     "data": {
      "text/plain": [
       "[0, 0, 0, 0, 0, 0, 0, 0]"
      ]
     },
     "execution_count": 7,
     "metadata": {},
     "output_type": "execute_result"
    }
   ],
   "source": [
    "templates = [\n",
    "\"\"\"\n",
    "python run_sac.py\n",
    "    --env_name HalfCheetah-v4 --env_tasks forward backward jump --multitask_setting cds --ep_len 150\n",
    "    --discount 0.99 --scalar_log_freq 1500\n",
    "    -n 100000 -l 2 -s 256 -b 1500 -eb 1500\n",
    "    -lr 0.0003 --init_temperature 0.1 --exp_name halfcheetah_fbj_cds{0}\n",
    "    --seed 1 --cds_percentile {0}\n",
    "\"\"\",\n",
    "\"\"\"\n",
    "python run_sac.py\n",
    "    --env_name Walker2d-v4 --env_tasks forward backward jump --multitask_setting cds --ep_len 1000\n",
    "    --discount 0.99 --scalar_log_freq 2000\n",
    "    -n 100000 -l 2 -s 256 -b 2000 -eb 2000\n",
    "    -lr 0.0003 --init_temperature 0.1 --exp_name walker_fbj_cds{0}\n",
    "    --seed 1 --cds_percentile {0}\n",
    "\"\"\"\n",
    "]\n",
    "\n",
    "percentiles = [.05, .1, .15, .25]\n",
    "run_parallel([t.format(p) for t in templates for p in percentiles])"
   ]
  },
  {
   "cell_type": "code",
   "execution_count": null,
   "metadata": {},
   "outputs": [],
   "source": []
  }
 ],
 "metadata": {
  "kernelspec": {
   "display_name": "Python 3.7.13 ('cs285-proj')",
   "language": "python",
   "name": "python3"
  },
  "language_info": {
   "codemirror_mode": {
    "name": "ipython",
    "version": 3
   },
   "file_extension": ".py",
   "mimetype": "text/x-python",
   "name": "python",
   "nbconvert_exporter": "python",
   "pygments_lexer": "ipython3",
   "version": "3.7.13"
  },
  "orig_nbformat": 4,
  "vscode": {
   "interpreter": {
    "hash": "faf735c45a078cd1c0490576e73875b2c8a7be45aa386fdf130a542f804b4170"
   }
  }
 },
 "nbformat": 4,
 "nbformat_minor": 2
}
